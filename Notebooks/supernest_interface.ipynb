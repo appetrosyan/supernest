{
 "cells": [
  {
   "cell_type": "code",
   "execution_count": 1,
   "id": "d77c2567",
   "metadata": {
    "scrolled": true
   },
   "outputs": [
    {
     "data": {
      "text/plain": [
       "Proposal\n",
       "\n",
       "prior:\n",
       "------\n",
       "Gaussian\n",
       "---------\n",
       "mean:\n",
       "=====\n",
       "[1 2 3]\n",
       "\n",
       "covmat:\n",
       "=======\n",
       "[[1 0 0]\n",
       " [0 1 0]\n",
       " [0 0 2]]\n",
       "\n",
       "likelihood:\n",
       "-----------\n",
       "Likelihood wrapping <function gaussian_proposal.<locals>.correction at 0x7f5f59afa430>"
      ]
     },
     "execution_count": 1,
     "metadata": {},
     "output_type": "execute_result"
    }
   ],
   "source": [
    "import numpy as np\n",
    "import supernest as sn\n",
    "\n",
    "def generate_model(bounds, means, covs):\n",
    "    thetamin, thetamax = bounds[:,0], bounds[:,1]\n",
    "    invCov = np.linalg.inv(covs)\n",
    "\n",
    "    def prior(cube):\n",
    "        return thetamin + cube * (thetamax - thetamin)\n",
    "\n",
    "    def log_likelihood(theta):\n",
    "        return (-(theta - means) @ invCov @ (theta - means) / 2.0 , [])\n",
    "\n",
    "    return prior, log_likelihood\n",
    "\n",
    "\n",
    "bounds = np.array([[-1, 1], [-2, 2], [-3, 3]])\n",
    "means = np.array([1, 2, 3])\n",
    "covs = np.diag(np.array([1, 1, 2]))\n",
    "\n",
    "proposal  = sn.gaussian_proposal(bounds.T, means, covs)\n",
    "proposal"
   ]
  },
  {
   "cell_type": "code",
   "execution_count": 2,
   "id": "9fe7ad23",
   "metadata": {},
   "outputs": [
    {
     "data": {
      "text/plain": [
       "Proposal\n",
       "\n",
       "prior:\n",
       "------\n",
       "Gaussian\n",
       "---------\n",
       "mean:\n",
       "=====\n",
       "[1 2 3]\n",
       "\n",
       "covmat:\n",
       "=======\n",
       "[[1 0 0]\n",
       " [0 1 0]\n",
       " [0 0 2]]\n",
       "\n",
       "likelihood:\n",
       "-----------\n",
       "Likelihood wrapping\n",
       "    <function gaussian_proposal.<locals>.correction at 0x7f5f58b0c430>\n",
       "which is based on\n",
       "    <function generate_model.<locals>.log_likelihood at 0x7f5f58b0c3a0>"
      ]
     },
     "execution_count": 2,
     "metadata": {},
     "output_type": "execute_result"
    }
   ],
   "source": [
    "model = generate_model(bounds, means, covs)\n",
    "proposal = sn.gaussian_proposal(bounds.T, means, covs, loglike=model[1])\n",
    "proposal"
   ]
  },
  {
   "cell_type": "code",
   "execution_count": null,
   "id": "84e34673",
   "metadata": {},
   "outputs": [],
   "source": []
  }
 ],
 "metadata": {
  "kernelspec": {
   "display_name": "Python 3 (ipykernel)",
   "language": "python",
   "name": "python3"
  },
  "language_info": {
   "codemirror_mode": {
    "name": "ipython",
    "version": 3
   },
   "file_extension": ".py",
   "mimetype": "text/x-python",
   "name": "python",
   "nbconvert_exporter": "python",
   "pygments_lexer": "ipython3",
   "version": "3.9.7"
  }
 },
 "nbformat": 4,
 "nbformat_minor": 5
}
